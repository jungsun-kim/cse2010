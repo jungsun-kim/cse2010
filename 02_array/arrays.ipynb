{
 "cells": [
  {
   "cell_type": "code",
   "execution_count": 63,
   "id": "controversial-skiing",
   "metadata": {},
   "outputs": [],
   "source": [
    "import java.util.Arrays;"
   ]
  },
  {
   "cell_type": "markdown",
   "id": "spread-diagnosis",
   "metadata": {},
   "source": [
    "### 1-D Arrays"
   ]
  },
  {
   "cell_type": "code",
   "execution_count": 15,
   "id": "worse-jefferson",
   "metadata": {},
   "outputs": [],
   "source": [
    "int[] ints = new int[5];"
   ]
  },
  {
   "cell_type": "code",
   "execution_count": 16,
   "id": "widespread-statement",
   "metadata": {},
   "outputs": [
    {
     "name": "stdout",
     "output_type": "stream",
     "text": [
      "[0, 0, 0, 0, 0]\r\n"
     ]
    }
   ],
   "source": [
    "System.out.println(Arrays.toString(ints))"
   ]
  },
  {
   "cell_type": "code",
   "execution_count": 17,
   "id": "textile-andorra",
   "metadata": {},
   "outputs": [],
   "source": [
    "for (int i = 0; i < ints.length; i++) {\n",
    "    ints[i] = i * i;\n",
    "}"
   ]
  },
  {
   "cell_type": "code",
   "execution_count": 18,
   "id": "signed-hello",
   "metadata": {},
   "outputs": [
    {
     "name": "stdout",
     "output_type": "stream",
     "text": [
      "[0, 1, 4, 9, 16]\r\n"
     ]
    }
   ],
   "source": [
    "System.out.println(Arrays.toString(ints))"
   ]
  },
  {
   "cell_type": "code",
   "execution_count": 19,
   "id": "aerial-adoption",
   "metadata": {},
   "outputs": [
    {
     "name": "stdout",
     "output_type": "stream",
     "text": [
      "5\r\n"
     ]
    }
   ],
   "source": [
    "System.out.println(ints.length);"
   ]
  },
  {
   "cell_type": "code",
   "execution_count": 21,
   "id": "adjustable-voluntary",
   "metadata": {},
   "outputs": [
    {
     "name": "stdout",
     "output_type": "stream",
     "text": [
      "0\n",
      "16\n"
     ]
    }
   ],
   "source": [
    "System.out.println(ints[0]);\n",
    "System.out.println(ints[4]);"
   ]
  },
  {
   "cell_type": "code",
   "execution_count": 22,
   "id": "passing-output",
   "metadata": {},
   "outputs": [
    {
     "ename": "EvalException",
     "evalue": "Index 5 out of bounds for length 5",
     "output_type": "error",
     "traceback": [
      "\u001b[1m\u001b[31m---------------------------------------------------------------------------\u001b[0m",
      "\u001b[1m\u001b[31mjava.lang.ArrayIndexOutOfBoundsException: Index 5 out of bounds for length 5\u001b[0m",
      "\u001b[1m\u001b[31m\tat .(#29:1)\u001b[0m"
     ]
    }
   ],
   "source": [
    "System.out.println(ints[5]);"
   ]
  },
  {
   "cell_type": "code",
   "execution_count": 26,
   "id": "balanced-trailer",
   "metadata": {},
   "outputs": [
    {
     "data": {
      "text/plain": [
       "[1, 2, 3, 4, 5]"
      ]
     },
     "execution_count": 26,
     "metadata": {},
     "output_type": "execute_result"
    }
   ],
   "source": [
    "int[] intArray = {1, 2, 3, 4, 5}; \n",
    "Arrays.toString(intArray)"
   ]
  },
  {
   "cell_type": "code",
   "execution_count": 32,
   "id": "tired-affiliate",
   "metadata": {},
   "outputs": [
    {
     "data": {
      "text/plain": [
       "[1, 2, 3, 4, 5]"
      ]
     },
     "execution_count": 32,
     "metadata": {},
     "output_type": "execute_result"
    }
   ],
   "source": [
    "int[] intArray = new int[] {1, 2, 3, 4, 5};\n",
    "Arrays.toString(intArray);"
   ]
  },
  {
   "cell_type": "code",
   "execution_count": 29,
   "id": "prepared-exploration",
   "metadata": {},
   "outputs": [
    {
     "data": {
      "text/plain": [
       "[1, 2, 3, 4, 5]"
      ]
     },
     "execution_count": 29,
     "metadata": {},
     "output_type": "execute_result"
    }
   ],
   "source": [
    "String[] name = {\"Stacy\", \"Tracy\", \"Dorothy\"};\n",
    "Arrays.toString(intArray);"
   ]
  },
  {
   "cell_type": "code",
   "execution_count": 30,
   "id": "potential-repeat",
   "metadata": {},
   "outputs": [
    {
     "ename": "CompilationException",
     "evalue": "",
     "output_type": "error",
     "traceback": [
      "\u001b[1m\u001b[30m|   \u001b[1m\u001b[30mString[] name = \u001b[0m\u001b[1m\u001b[30m\u001b[41mnew String[10] {\"Stacy\", \"Tracy\", \"Dorothy\"}\u001b[0m\u001b[1m\u001b[30m;\u001b[0m",
      "\u001b[1m\u001b[31marray creation with both dimension expression and initialization is illegal\u001b[0m",
      ""
     ]
    }
   ],
   "source": [
    "String[] name = new String[10] {\"Stacy\", \"Tracy\", \"Dorothy\"};\n",
    "Arrays.toString(intArray);"
   ]
  },
  {
   "cell_type": "code",
   "execution_count": 33,
   "id": "extended-badge",
   "metadata": {},
   "outputs": [],
   "source": [
    "// System.arraycopy(srcArray, srcIndex, destArray, destIndex, numberOfEntriesToCopy);\n",
    "\n",
    "int[] srcArray  = {  1,   2,   3,   4,   5};\n",
    "int[] destArray = {101, 102, 103, 104, 105, 106, 107};"
   ]
  },
  {
   "cell_type": "code",
   "execution_count": 37,
   "id": "canadian-matthew",
   "metadata": {},
   "outputs": [
    {
     "name": "stdout",
     "output_type": "stream",
     "text": [
      "1\t101\n",
      "2\t102\n",
      "3\t2\n",
      "4\t3\n",
      "5\t4\n",
      "\t106\n",
      "\t107\n"
     ]
    }
   ],
   "source": [
    "System.arraycopy(srcArray, 1, destArray, 2, 3);\n",
    "\n",
    "for(int i=0; i < destArray.length; i++) {\n",
    "    System.out.println((i < srcArray.length ? srcArray[i] : \"\") + \"\\t\" + destArray[i]);\n",
    "}"
   ]
  },
  {
   "cell_type": "markdown",
   "id": "offensive-soviet",
   "metadata": {},
   "source": [
    "### java.util.Arrays"
   ]
  },
  {
   "cell_type": "code",
   "execution_count": 39,
   "id": "regular-optics",
   "metadata": {},
   "outputs": [],
   "source": [
    "int[] A = {1, 2, 3, 4, 5};\n",
    "int[] B = {1, 2, 3, 4, 5};\n",
    "int[] C = {5, 4, 3, 2, 1};"
   ]
  },
  {
   "cell_type": "code",
   "execution_count": 40,
   "id": "buried-alliance",
   "metadata": {},
   "outputs": [
    {
     "data": {
      "text/plain": [
       "false"
      ]
     },
     "execution_count": 40,
     "metadata": {},
     "output_type": "execute_result"
    }
   ],
   "source": [
    "A == B"
   ]
  },
  {
   "cell_type": "code",
   "execution_count": 41,
   "id": "impaired-tracker",
   "metadata": {},
   "outputs": [
    {
     "data": {
      "text/plain": [
       "true"
      ]
     },
     "execution_count": 41,
     "metadata": {},
     "output_type": "execute_result"
    }
   ],
   "source": [
    "Arrays.equals(A, B)"
   ]
  },
  {
   "cell_type": "code",
   "execution_count": 43,
   "id": "noted-flight",
   "metadata": {},
   "outputs": [
    {
     "data": {
      "text/plain": [
       "false"
      ]
     },
     "execution_count": 43,
     "metadata": {},
     "output_type": "execute_result"
    }
   ],
   "source": [
    "Arrays.equals(A, C)"
   ]
  },
  {
   "cell_type": "code",
   "execution_count": 46,
   "id": "forbidden-morocco",
   "metadata": {},
   "outputs": [
    {
     "data": {
      "text/plain": [
       "[777, 777, 777, 777, 777]"
      ]
     },
     "execution_count": 46,
     "metadata": {},
     "output_type": "execute_result"
    }
   ],
   "source": [
    "int[] A = {1, 2, 3, 4, 5};\n",
    "\n",
    "Arrays.fill(A, 777);\n",
    "Arrays.toString(A)"
   ]
  },
  {
   "cell_type": "code",
   "execution_count": 49,
   "id": "cordless-pastor",
   "metadata": {},
   "outputs": [
    {
     "data": {
      "text/plain": [
       "[1, 2, 3]"
      ]
     },
     "execution_count": 49,
     "metadata": {},
     "output_type": "execute_result"
    }
   ],
   "source": [
    "int[] A = {1, 2, 3, 4, 5};\n",
    "\n",
    "int[] destArray = Arrays.copyOf(A, 3);   // `copyOf` generates new array \n",
    "Arrays.toString(destArray);"
   ]
  },
  {
   "cell_type": "code",
   "execution_count": 50,
   "id": "embedded-cross",
   "metadata": {},
   "outputs": [
    {
     "data": {
      "text/plain": [
       "[1, 2, 3, 4, 5, 0, 0, 0, 0, 0]"
      ]
     },
     "execution_count": 50,
     "metadata": {},
     "output_type": "execute_result"
    }
   ],
   "source": [
    "int[] A = {1, 2, 3, 4, 5};\n",
    "\n",
    "int[] destArray = Arrays.copyOf(A, 10);\n",
    "Arrays.toString(destArray);"
   ]
  },
  {
   "cell_type": "code",
   "execution_count": 56,
   "id": "intellectual-craft",
   "metadata": {},
   "outputs": [
    {
     "data": {
      "text/plain": [
       "[2, 7]"
      ]
     },
     "execution_count": 56,
     "metadata": {},
     "output_type": "execute_result"
    }
   ],
   "source": [
    "int[] A = {5, 4, 3, 2, 1};\n",
    "\n",
    "int[] destArray = Arrays.copyOfRange(A, 1, 3);\n",
    "Arrays.toString(destArray);"
   ]
  },
  {
   "cell_type": "code",
   "execution_count": 59,
   "id": "standard-trail",
   "metadata": {},
   "outputs": [
    {
     "data": {
      "text/plain": [
       "[1, 2, 3, 4, 5]"
      ]
     },
     "execution_count": 59,
     "metadata": {},
     "output_type": "execute_result"
    }
   ],
   "source": [
    "int[] A = {5, 4, 3, 2, 1};\n",
    "\n",
    "Arrays.sort(A);\n",
    "Arrays.toString(A);"
   ]
  },
  {
   "cell_type": "code",
   "execution_count": 61,
   "id": "composite-quebec",
   "metadata": {},
   "outputs": [
    {
     "data": {
      "text/plain": [
       "[0, 1, 4, 9, 16, 25, 36, 49, 64, 81, 100, 121, 144, 169, 196, 225, 256, 289, 324, 361, 400, 441, 484, 529, 576, 625, 676, 729, 784, 841, 900, 961, 1024, 1089, 1156, 1225, 1296, 1369, 1444, 1521, 1600, 1681, 1764, 1849, 1936, 2025, 2116, 2209, 2304, 2401, 2500, 2601, 2704, 2809, 2916, 3025, 3136, 3249, 3364, 3481, 3600, 3721, 3844, 3969, 4096, 4225, 4356, 4489, 4624, 4761, 4900, 5041, 5184, 5329, 5476, 5625, 5776, 5929, 6084, 6241, 6400, 6561, 6724, 6889, 7056, 7225, 7396, 7569, 7744, 7921, 8100, 8281, 8464, 8649, 8836, 9025, 9216, 9409, 9604, 9801]"
      ]
     },
     "execution_count": 61,
     "metadata": {},
     "output_type": "execute_result"
    }
   ],
   "source": [
    "int[] A = new int[100];\n",
    "\n",
    "Arrays.setAll(A, i -> i * i);\n",
    "\n",
    "Arrays.toString(A);"
   ]
  },
  {
   "cell_type": "markdown",
   "id": "focused-earthquake",
   "metadata": {},
   "source": [
    "### Insertion Sort"
   ]
  },
  {
   "cell_type": "markdown",
   "id": "urban-bidder",
   "metadata": {},
   "source": [
    "<img src=\"./insertion_sort.png\" />"
   ]
  },
  {
   "cell_type": "code",
   "execution_count": 102,
   "id": "reflected-heavy",
   "metadata": {},
   "outputs": [],
   "source": [
    "public void insertionSort(int[] data) {\n",
    "    for (int k = 1; k < data.length; k++) {\n",
    "        int current = data[k];\n",
    "        int j = k;\n",
    "        while (j > 0 && data[j - 1] > current) {\n",
    "            data[j] = data[j-1];\n",
    "            j--;\n",
    "        }\n",
    "        data[j] = current;\n",
    "    }\n",
    "}"
   ]
  },
  {
   "cell_type": "code",
   "execution_count": 103,
   "id": "compact-listing",
   "metadata": {},
   "outputs": [
    {
     "data": {
      "text/plain": [
       "[10, 9, 8, 7, 6, 5, 4, 3, 2, 1]"
      ]
     },
     "execution_count": 103,
     "metadata": {},
     "output_type": "execute_result"
    }
   ],
   "source": [
    "int[] xs = new int[10];\n",
    "Arrays.setAll(xs, i -> 10 - i);\n",
    "\n",
    "Arrays.toString(xs);"
   ]
  },
  {
   "cell_type": "code",
   "execution_count": 104,
   "id": "italian-defendant",
   "metadata": {},
   "outputs": [
    {
     "data": {
      "text/plain": [
       "[1, 2, 3, 4, 5, 6, 7, 8, 9, 10]"
      ]
     },
     "execution_count": 104,
     "metadata": {},
     "output_type": "execute_result"
    }
   ],
   "source": [
    "insertionSort(xs);\n",
    "\n",
    "Arrays.toString(xs);"
   ]
  },
  {
   "cell_type": "markdown",
   "id": "perfect-psychiatry",
   "metadata": {},
   "source": [
    "<img src=\"insertion_sort2.png\" width=600/>"
   ]
  },
  {
   "cell_type": "code",
   "execution_count": 107,
   "id": "norman-amsterdam",
   "metadata": {},
   "outputs": [],
   "source": [
    "public void insertionSort(int[] data) {\n",
    "    for (int k = 1; k < data.length; k++) {\n",
    "        int j = k;\n",
    "        while(j > 0 && data[j - 1] > data[j]) {\n",
    "            swap(data, j-1, j);\n",
    "            j--;\n",
    "        }\n",
    "    }    \n",
    "}\n",
    "\n",
    "public void swap(int[] data, int i, int j) {\n",
    "    int temp = data[i];\n",
    "    data[i] = data[j];\n",
    "    data[j] = temp;\n",
    "}"
   ]
  },
  {
   "cell_type": "code",
   "execution_count": 108,
   "id": "differential-pointer",
   "metadata": {},
   "outputs": [
    {
     "data": {
      "text/plain": [
       "[1, 2, 3, 4, 5, 6, 7, 8, 9, 10]"
      ]
     },
     "execution_count": 108,
     "metadata": {},
     "output_type": "execute_result"
    }
   ],
   "source": [
    "int[] xs = new int[10];\n",
    "Arrays.setAll(xs, i -> 10 - i);\n",
    "\n",
    "insertionSort(xs);\n",
    "\n",
    "Arrays.toString(xs);"
   ]
  },
  {
   "cell_type": "code",
   "execution_count": null,
   "id": "prescription-scout",
   "metadata": {},
   "outputs": [],
   "source": []
  },
  {
   "cell_type": "markdown",
   "id": "loved-policy",
   "metadata": {},
   "source": [
    "### 2-D Arrays"
   ]
  },
  {
   "cell_type": "code",
   "execution_count": 79,
   "id": "tamil-description",
   "metadata": {},
   "outputs": [],
   "source": [
    "double[][] M = new double[2][3];"
   ]
  },
  {
   "cell_type": "markdown",
   "id": "legislative-milwaukee",
   "metadata": {},
   "source": [
    "<img src=\"./two_dim_array.png\" />"
   ]
  },
  {
   "cell_type": "code",
   "execution_count": 80,
   "id": "professional-wireless",
   "metadata": {},
   "outputs": [
    {
     "data": {
      "text/plain": [
       "[[D@7eb5e282, [D@70720324]"
      ]
     },
     "execution_count": 80,
     "metadata": {},
     "output_type": "execute_result"
    }
   ],
   "source": [
    "Arrays.toString(M)"
   ]
  },
  {
   "cell_type": "code",
   "execution_count": 69,
   "id": "compact-collect",
   "metadata": {
    "scrolled": true
   },
   "outputs": [
    {
     "data": {
      "text/plain": [
       "[[0.0, 0.0, 0.0], [0.0, 0.0, 0.0]]"
      ]
     },
     "execution_count": 69,
     "metadata": {},
     "output_type": "execute_result"
    }
   ],
   "source": [
    "Arrays.deepToString(M);"
   ]
  },
  {
   "cell_type": "code",
   "execution_count": 83,
   "id": "special-orange",
   "metadata": {},
   "outputs": [
    {
     "data": {
      "text/plain": [
       "[[0.0, 2.0, 4.0], [1.0, 3.0, 5.0]]"
      ]
     },
     "execution_count": 83,
     "metadata": {},
     "output_type": "execute_result"
    }
   ],
   "source": [
    "for (int i = 0; i < M.length; i++) {\n",
    "    for (int j = 0; j < M[i].length; j++) {\n",
    "        M[i][j] = i + 2 * j;\n",
    "    }\n",
    "}\n",
    "\n",
    "Arrays.deepToString(M)"
   ]
  },
  {
   "cell_type": "markdown",
   "id": "popular-familiar",
   "metadata": {},
   "source": [
    "When you create a two dimension array without initialization, the **_first dimension must be specified_**, but the second dimension may be left unspecified, to be filled in later."
   ]
  },
  {
   "cell_type": "code",
   "execution_count": 85,
   "id": "conscious-cooking",
   "metadata": {},
   "outputs": [],
   "source": [
    "double[][] M = new double[2][];"
   ]
  },
  {
   "cell_type": "code",
   "execution_count": 86,
   "id": "black-class",
   "metadata": {},
   "outputs": [],
   "source": [
    "for (int i = 0; i < M.length; i++) {\n",
    "    M[i]= new double[3];\n",
    "}"
   ]
  },
  {
   "cell_type": "code",
   "execution_count": 89,
   "id": "apart-durham",
   "metadata": {},
   "outputs": [
    {
     "data": {
      "text/plain": [
       "[[0.0, 2.0, 4.0], [1.0, 3.0, 5.0]]"
      ]
     },
     "execution_count": 89,
     "metadata": {},
     "output_type": "execute_result"
    }
   ],
   "source": [
    "for (int i = 0; i < M.length; i++) {\n",
    "    for (int j = 0; j < M[i].length; j++) {\n",
    "        M[i][j] = i + 2 * j;\n",
    "    }\n",
    "}\n",
    "\n",
    "Arrays.deepToString(M);"
   ]
  },
  {
   "cell_type": "code",
   "execution_count": 90,
   "id": "dependent-dining",
   "metadata": {},
   "outputs": [
    {
     "data": {
      "text/plain": [
       "[[0.0, 1.0, 4.0], [1.0, 3.0, 5.0]]"
      ]
     },
     "execution_count": 90,
     "metadata": {},
     "output_type": "execute_result"
    }
   ],
   "source": [
    "double[][] M = {{0, 1, 4}, {1, 3, 5}};\n",
    "\n",
    "Arrays.deepToString(M);"
   ]
  },
  {
   "cell_type": "code",
   "execution_count": 91,
   "id": "strong-aging",
   "metadata": {},
   "outputs": [
    {
     "data": {
      "text/plain": [
       "[[0.0, 1.0], [1.0, 2.0, 3.0]]"
      ]
     },
     "execution_count": 91,
     "metadata": {},
     "output_type": "execute_result"
    }
   ],
   "source": [
    "double[][] M = {{0, 1}, {1, 2, 3}};\n",
    "\n",
    "Arrays.deepToString(M);"
   ]
  },
  {
   "cell_type": "code",
   "execution_count": null,
   "id": "comfortable-render",
   "metadata": {},
   "outputs": [],
   "source": []
  },
  {
   "cell_type": "code",
   "execution_count": null,
   "id": "dense-palestine",
   "metadata": {},
   "outputs": [],
   "source": []
  },
  {
   "cell_type": "code",
   "execution_count": null,
   "id": "contrary-franklin",
   "metadata": {},
   "outputs": [],
   "source": []
  },
  {
   "cell_type": "code",
   "execution_count": null,
   "id": "certified-above",
   "metadata": {},
   "outputs": [],
   "source": []
  }
 ],
 "metadata": {
  "kernelspec": {
   "display_name": "Java",
   "language": "java",
   "name": "java"
  },
  "language_info": {
   "codemirror_mode": "java",
   "file_extension": ".jshell",
   "mimetype": "text/x-java-source",
   "name": "Java",
   "pygments_lexer": "java",
   "version": "15.0.2+7-27"
  }
 },
 "nbformat": 4,
 "nbformat_minor": 5
}
