{
 "cells": [
  {
   "cell_type": "code",
   "execution_count": 1,
   "id": "expanded-monitoring",
   "metadata": {},
   "outputs": [],
   "source": [
    "public class IntBox {\n",
    "    int value;\n",
    "    \n",
    "    public IntBox(int value) {\n",
    "        this.value = value;\n",
    "    }\n",
    "    \n",
    "    public int getValue() {\n",
    "        return value;\n",
    "    }\n",
    "}"
   ]
  },
  {
   "cell_type": "code",
   "execution_count": 3,
   "id": "intelligent-sewing",
   "metadata": {},
   "outputs": [
    {
     "name": "stdout",
     "output_type": "stream",
     "text": [
      "1234\r\n"
     ]
    }
   ],
   "source": [
    "IntBox box = new IntBox(1234);\n",
    "\n",
    "int value = box.getValue();\n",
    "System.out.println(value);"
   ]
  },
  {
   "cell_type": "code",
   "execution_count": 4,
   "id": "artificial-township",
   "metadata": {},
   "outputs": [],
   "source": [
    "public class StringBox {\n",
    "    String value;\n",
    "    \n",
    "    public StringBox(String value) {\n",
    "        this.value = value;\n",
    "    }\n",
    "    \n",
    "    public String getValue() {\n",
    "        return value;\n",
    "    }\n",
    "}"
   ]
  },
  {
   "cell_type": "code",
   "execution_count": 5,
   "id": "organized-contamination",
   "metadata": {},
   "outputs": [
    {
     "name": "stdout",
     "output_type": "stream",
     "text": [
      "Yellow\r\n"
     ]
    }
   ],
   "source": [
    "StringBox box = new StringBox(\"Yellow\");\n",
    "\n",
    "String value = box.getValue();\n",
    "System.out.println(value);"
   ]
  },
  {
   "cell_type": "code",
   "execution_count": 6,
   "id": "dependent-distributor",
   "metadata": {},
   "outputs": [],
   "source": [
    "public class ObjectBox {\n",
    "    Object value;\n",
    "    \n",
    "    public ObjectBox(Object value) {\n",
    "        this.value = value;\n",
    "    }\n",
    "    \n",
    "    public Object getValue() {\n",
    "        return value;\n",
    "    }\n",
    "}"
   ]
  },
  {
   "cell_type": "code",
   "execution_count": 10,
   "id": "surgical-apache",
   "metadata": {},
   "outputs": [
    {
     "name": "stdout",
     "output_type": "stream",
     "text": [
      "YELLOW\r\n"
     ]
    }
   ],
   "source": [
    "ObjectBox box = new ObjectBox(\"Yellow\");\n",
    "\n",
    "String value = (String) box.getValue();\n",
    "System.out.println(value.toUpperCase());"
   ]
  },
  {
   "cell_type": "code",
   "execution_count": 9,
   "id": "objective-stroke",
   "metadata": {},
   "outputs": [
    {
     "ename": "EvalException",
     "evalue": "class java.lang.String cannot be cast to class java.lang.Integer (java.lang.String and java.lang.Integer are in module java.base of loader 'bootstrap')",
     "output_type": "error",
     "traceback": [
      "\u001b[1m\u001b[31m---------------------------------------------------------------------------\u001b[0m",
      "\u001b[1m\u001b[31mjava.lang.ClassCastException: class java.lang.String cannot be cast to class java.lang.Integer (java.lang.String and java.lang.Integer are in module java.base of loader 'bootstrap')\u001b[0m",
      "\u001b[1m\u001b[31m\tat .(#14:1)\u001b[0m"
     ]
    }
   ],
   "source": [
    "ObjectBox box = new ObjectBox(\"Yellow\");\n",
    "\n",
    "Integer value = (Integer) box.getValue();\n",
    "System.out.println(value.);"
   ]
  },
  {
   "cell_type": "code",
   "execution_count": 11,
   "id": "sacred-richmond",
   "metadata": {},
   "outputs": [],
   "source": [
    "public class Box<T> {\n",
    "    T value;\n",
    "    \n",
    "    public Box(T value) {\n",
    "        this.value = value;\n",
    "    }\n",
    "    \n",
    "    public T getValue() {\n",
    "        return value;\n",
    "    }\n",
    "}"
   ]
  },
  {
   "cell_type": "code",
   "execution_count": 12,
   "id": "hybrid-queue",
   "metadata": {},
   "outputs": [
    {
     "name": "stdout",
     "output_type": "stream",
     "text": [
      "1234\r\n"
     ]
    }
   ],
   "source": [
    "Box<Integer> box = new Box(1234);\n",
    "\n",
    "Integer value = box.getValue();\n",
    "System.out.println(value);"
   ]
  },
  {
   "cell_type": "code",
   "execution_count": 13,
   "id": "overhead-newfoundland",
   "metadata": {},
   "outputs": [
    {
     "name": "stdout",
     "output_type": "stream",
     "text": [
      "YELLOW\r\n"
     ]
    }
   ],
   "source": [
    "Box<String> box = new Box(\"Yellow\");\n",
    "\n",
    "String value = box.getValue();\n",
    "System.out.println(value.toUpperCase());"
   ]
  },
  {
   "cell_type": "code",
   "execution_count": 14,
   "id": "received-recipe",
   "metadata": {},
   "outputs": [
    {
     "ename": "CompilationException",
     "evalue": "",
     "output_type": "error",
     "traceback": [
      "\u001b[1m\u001b[30m|   \u001b[1m\u001b[30mString value = \u001b[0m\u001b[1m\u001b[30m\u001b[41mbox.getValue()\u001b[0m\u001b[1m\u001b[30m;\u001b[0m",
      "\u001b[1m\u001b[31mincompatible types: java.lang.Integer cannot be converted to java.lang.String\u001b[0m",
      ""
     ]
    }
   ],
   "source": [
    "Box<Integer> box = new Box(1234);\n",
    "\n",
    "String value = box.getValue();\n",
    "System.out.println(value.toUpperCase());"
   ]
  },
  {
   "cell_type": "code",
   "execution_count": null,
   "id": "technical-restaurant",
   "metadata": {},
   "outputs": [],
   "source": []
  }
 ],
 "metadata": {
  "kernelspec": {
   "display_name": "Java",
   "language": "java",
   "name": "java"
  },
  "language_info": {
   "codemirror_mode": "java",
   "file_extension": ".jshell",
   "mimetype": "text/x-java-source",
   "name": "Java",
   "pygments_lexer": "java",
   "version": "15.0.2+7-27"
  }
 },
 "nbformat": 4,
 "nbformat_minor": 5
}
