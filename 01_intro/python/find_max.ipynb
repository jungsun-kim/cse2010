{
 "cells": [
  {
   "cell_type": "markdown",
   "id": "special-consultation",
   "metadata": {},
   "source": [
    "* **Note:** Python does not have built-in support for Arrays,  but Python Lists can be used instead.\n",
    "* **Note:** To work with arrays in Python you will have to import a library like `array` or `numpy`. "
   ]
  },
  {
   "cell_type": "markdown",
   "id": "confident-balloon",
   "metadata": {},
   "source": [
    "<img src=\"../arrayMax.png\" width=300/>"
   ]
  },
  {
   "cell_type": "code",
   "execution_count": null,
   "id": "active-cloud",
   "metadata": {},
   "outputs": [],
   "source": [
    "import array as arr"
   ]
  },
  {
   "cell_type": "code",
   "execution_count": null,
   "id": "separate-tennessee",
   "metadata": {},
   "outputs": [],
   "source": [
    "def find_max(A):\n",
    "    \"\"\"find max element of an array\"\"\"\n",
    "\n",
    "    currentMax = A[0]\n",
    "    for i in range(1, len(A)):\n",
    "        if A[i] > currentMax:\n",
    "            currentMax = A[i]\n",
    "    return currentMax"
   ]
  },
  {
   "cell_type": "code",
   "execution_count": null,
   "id": "changed-fitting",
   "metadata": {},
   "outputs": [],
   "source": [
    "A = arr.array('i', [5, 20, 1, 15, 5, 777, 4])\n",
    "A"
   ]
  },
  {
   "cell_type": "code",
   "execution_count": null,
   "id": "fitted-washington",
   "metadata": {},
   "outputs": [],
   "source": [
    "find_max(A)"
   ]
  },
  {
   "cell_type": "code",
   "execution_count": null,
   "id": "ruled-utilization",
   "metadata": {},
   "outputs": [],
   "source": [
    "def find_max(A):\n",
    "    \"\"\"find max element of an array\"\"\"\n",
    "\n",
    "    currentMax = A[0]\n",
    "    for elem in A[1:]:\n",
    "        if elem > currentMax:\n",
    "            currentMax = elem\n",
    "    return currentMax"
   ]
  },
  {
   "cell_type": "code",
   "execution_count": null,
   "id": "affected-hometown",
   "metadata": {},
   "outputs": [],
   "source": [
    "find_max(A)"
   ]
  },
  {
   "cell_type": "code",
   "execution_count": null,
   "id": "buried-requirement",
   "metadata": {},
   "outputs": [],
   "source": [
    "def find_max(A):\n",
    "    \"\"\"find max element of an array\"\"\"\n",
    "    \n",
    "    return max(A)"
   ]
  },
  {
   "cell_type": "code",
   "execution_count": null,
   "id": "medieval-barrel",
   "metadata": {},
   "outputs": [],
   "source": [
    "find_max(A)"
   ]
  },
  {
   "cell_type": "markdown",
   "id": "biological-affiliate",
   "metadata": {},
   "source": [
    "#### Let's try to pass differnet types of data."
   ]
  },
  {
   "cell_type": "code",
   "execution_count": null,
   "id": "constitutional-billy",
   "metadata": {},
   "outputs": [],
   "source": [
    "A = arr.array('d', [5.5, 20.2, 1.1, 15.15, 5.5, 777.0, 4.4]) "
   ]
  },
  {
   "cell_type": "code",
   "execution_count": null,
   "id": "corresponding-afghanistan",
   "metadata": {},
   "outputs": [],
   "source": [
    "find_max(A)"
   ]
  },
  {
   "cell_type": "code",
   "execution_count": null,
   "id": "bridal-basin",
   "metadata": {},
   "outputs": [],
   "source": [
    "A = arr.array('u', u'hello') "
   ]
  },
  {
   "cell_type": "code",
   "execution_count": null,
   "id": "active-mobile",
   "metadata": {},
   "outputs": [],
   "source": [
    "find_max(A)"
   ]
  },
  {
   "cell_type": "code",
   "execution_count": null,
   "id": "ultimate-script",
   "metadata": {},
   "outputs": [],
   "source": [
    "C = [\"Hello\", \"Yellow\", \"Mello\"]"
   ]
  },
  {
   "cell_type": "code",
   "execution_count": null,
   "id": "authorized-diagram",
   "metadata": {},
   "outputs": [],
   "source": [
    "find_max(C)"
   ]
  },
  {
   "cell_type": "code",
   "execution_count": null,
   "id": "roman-catalog",
   "metadata": {},
   "outputs": [],
   "source": []
  }
 ],
 "metadata": {
  "kernelspec": {
   "display_name": "Python 3",
   "language": "python",
   "name": "python3"
  },
  "language_info": {
   "codemirror_mode": {
    "name": "ipython",
    "version": 3
   },
   "file_extension": ".py",
   "mimetype": "text/x-python",
   "name": "python",
   "nbconvert_exporter": "python",
   "pygments_lexer": "ipython3",
   "version": "3.9.1"
  }
 },
 "nbformat": 4,
 "nbformat_minor": 5
}
