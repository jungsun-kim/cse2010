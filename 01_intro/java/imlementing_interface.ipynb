{
 "cells": [
  {
   "cell_type": "markdown",
   "id": "color-february",
   "metadata": {},
   "source": [
    "### Implementing Interface"
   ]
  },
  {
   "cell_type": "code",
   "execution_count": null,
   "id": "hazardous-saudi",
   "metadata": {},
   "outputs": [],
   "source": [
    "// IntBag.java\n",
    "public interface IntBag {\n",
    "    void addItem(int item);    // adds one item to the collection\n",
    "    int countOccur(int item);  // checks how many occurrences of a certain item are in the collection\n",
    "    boolean remove(int item);  // removes one item from the collection\n",
    "    int size();                // checks how many item are in the collection\n",
    "}"
   ]
  },
  {
   "cell_type": "code",
   "execution_count": null,
   "id": "becoming-plumbing",
   "metadata": {},
   "outputs": [],
   "source": [
    "// IntArrayBag.java\n",
    "import java.util.stream.*;\n",
    "\n",
    "public class IntArrayBag implements IntBag {\n",
    "    public static int INITIAL_CAPACITY = 100;\n",
    "    \n",
    "    private int[] data;\n",
    "    private int manyItems;\n",
    "    \n",
    "    public IntArrayBag() {\n",
    "        data = new int[INITIAL_CAPACITY];\n",
    "        manyItems = 0;\n",
    "    }\n",
    "    \n",
    "    public IntArrayBag(int capacity) {\n",
    "        data = new int[capacity];\n",
    "        manyItems = 0;\n",
    "    }\n",
    "    \n",
    "    @Override\n",
    "    public void addItem(int item) {\n",
    "        data[manyItems++] = item;\n",
    "    }\n",
    "    \n",
    "    @Override\n",
    "    public int countOccur(int item) {\n",
    "        return (int) Arrays.stream(data).filter(elem -> elem == item).count();\n",
    "    }\n",
    "    \n",
    "    @Override\n",
    "    public boolean remove(int item) {\n",
    "        int current = 0;\n",
    "        while (current < manyItems && data[current] != item)\n",
    "            current++;\n",
    "        if (current == manyItems) return false;\n",
    "        \n",
    "        while (current < manyItems - 1) {\n",
    "            data[current] = data[current + 1];\n",
    "            current++;\n",
    "        }\n",
    "        --manyItems;\n",
    "        return true;\n",
    "    }\n",
    "    \n",
    "    public boolean removeFast(int item) {\n",
    "        int current = 0;\n",
    "        while (current < manyItems && data[current] != item)\n",
    "            current++;\n",
    "        if (current == manyItems) return false;\n",
    "        \n",
    "        data[current] = data[--manyItems];\n",
    "        return false;\n",
    "    }\n",
    "    \n",
    "    @Override\n",
    "    public int size() {\n",
    "        return data.length;\n",
    "    }\n",
    "    \n",
    "    @Override\n",
    "    public String toString() {\n",
    "        return \"IntArrayBag{\" +\n",
    "            \"data=\" + Arrays.toString(data) +\n",
    "            \", manyItems=\" + manyItems +\n",
    "            '}';\n",
    "    }\n",
    "    \n",
    "    // for testing only\n",
    "    public int[] getData() {\n",
    "        return data;\n",
    "    }\n",
    "    \n",
    "    // for testing only\n",
    "    public void print() {\n",
    "        System.out.println(\n",
    "            Arrays.stream(data).limit(manyItems).mapToObj(String::valueOf).collect(Collectors.joining(\",\", \"[\", \"]\"))\n",
    "        );\n",
    "    }\n",
    "}"
   ]
  },
  {
   "cell_type": "code",
   "execution_count": null,
   "id": "typical-specification",
   "metadata": {},
   "outputs": [],
   "source": [
    "IntBag bag = new IntArrayBag(10);\n",
    "\n",
    "System.out.println(bag.size());\n",
    "\n",
    "int[] data = ((IntArrayBag) bag).getData();"
   ]
  },
  {
   "cell_type": "code",
   "execution_count": null,
   "id": "straight-latest",
   "metadata": {},
   "outputs": [],
   "source": [
    "import java.util.Random;\n",
    "import java.util.stream.*;\n",
    "\n",
    "Random random = new Random(1753);\n",
    "IntStream.range(0, 10).forEach(i -> bag.addItem(random.nextInt(10)));\n",
    "((IntArrayBag) bag).print();"
   ]
  },
  {
   "cell_type": "code",
   "execution_count": null,
   "id": "impaired-newport",
   "metadata": {},
   "outputs": [],
   "source": [
    "System.out.println(bag.countOccur(7))"
   ]
  },
  {
   "cell_type": "code",
   "execution_count": null,
   "id": "sealed-constitution",
   "metadata": {},
   "outputs": [],
   "source": [
    "bag.remove(9);\n",
    "((IntArrayBag) bag).print();"
   ]
  },
  {
   "cell_type": "markdown",
   "id": "relevant-cannon",
   "metadata": {},
   "source": [
    "### Measure execution time"
   ]
  },
  {
   "cell_type": "code",
   "execution_count": null,
   "id": "wooden-bones",
   "metadata": {},
   "outputs": [],
   "source": [
    "// Util.java\n",
    "public class Util {\n",
    "    public static long timeIt(Runnable code) {\n",
    "        long start = System.nanoTime();\n",
    "        code.run();\n",
    "        return System.nanoTime() - start;\n",
    "    }\n",
    "}"
   ]
  },
  {
   "cell_type": "code",
   "execution_count": null,
   "id": "special-procurement",
   "metadata": {},
   "outputs": [],
   "source": [
    "// only works inside interpreter such as jshell or jupyter notebook\n",
    "long timeIt(Runnable code) {\n",
    "    long start = System.nanoTime();\n",
    "    code.run();\n",
    "    return System.nanoTime() - start;\n",
    "}"
   ]
  },
  {
   "cell_type": "code",
   "execution_count": null,
   "id": "frequent-tracker",
   "metadata": {},
   "outputs": [],
   "source": [
    "IntBag bag = new IntArrayBag(50000);\n",
    "\n",
    "Random random = new Random(1753);\n",
    "bag.addItem(999);\n",
    "IntStream.range(1, 49000).forEach(i -> bag.addItem(random.nextInt(10)));"
   ]
  },
  {
   "cell_type": "code",
   "execution_count": null,
   "id": "human-index",
   "metadata": {},
   "outputs": [],
   "source": [
    "// Util.timeIt(() -> bag.remove(999));\n",
    "timeIt(() -> bag.remove(999));"
   ]
  },
  {
   "cell_type": "code",
   "execution_count": null,
   "id": "irish-secretary",
   "metadata": {},
   "outputs": [],
   "source": [
    "IntBag bag = new IntArrayBag(50000);\n",
    "\n",
    "Random random = new Random(1753);\n",
    "bag.addItem(999);\n",
    "IntStream.range(1, 49000).forEach(i -> bag.addItem(random.nextInt(10)));"
   ]
  },
  {
   "cell_type": "code",
   "execution_count": null,
   "id": "enclosed-skirt",
   "metadata": {},
   "outputs": [],
   "source": [
    "timeIt(() -> ((IntArrayBag) bag).removeFast(999));"
   ]
  },
  {
   "cell_type": "code",
   "execution_count": null,
   "id": "little-strength",
   "metadata": {},
   "outputs": [],
   "source": []
  }
 ],
 "metadata": {
  "kernelspec": {
   "display_name": "Java",
   "language": "java",
   "name": "java"
  },
  "language_info": {
   "codemirror_mode": "java",
   "file_extension": ".jshell",
   "mimetype": "text/x-java-source",
   "name": "Java",
   "pygments_lexer": "java",
   "version": "15.0.2+7-27"
  }
 },
 "nbformat": 4,
 "nbformat_minor": 5
}
