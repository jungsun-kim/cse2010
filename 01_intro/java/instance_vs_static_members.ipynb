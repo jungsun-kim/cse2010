{
 "cells": [
  {
   "cell_type": "markdown",
   "id": "appreciated-trance",
   "metadata": {},
   "source": [
    "### Instance methods vs. static methods"
   ]
  },
  {
   "cell_type": "code",
   "execution_count": null,
   "id": "naval-candy",
   "metadata": {},
   "outputs": [],
   "source": [
    "public class Car {\n",
    "    private static int count;\n",
    "    protected int odometer;\n",
    "    protected String make;\n",
    "    \n",
    "    public Car(String make) {\n",
    "        this.make = make;\n",
    "        ++count;\n",
    "    }\n",
    "    \n",
    "    public int getOdometer() {\n",
    "        return odometer;\n",
    "    }\n",
    "    \n",
    "    public String getMake() {\n",
    "        return make;\n",
    "    }\n",
    "    \n",
    "    public void drive(int distance) {\n",
    "        odometer += distance;\n",
    "    }\n",
    "    \n",
    "    public static int getCount() {\n",
    "        return count;\n",
    "    }\n",
    "    \n",
    "    @Override\n",
    "    public String toString() {\n",
    "        return String.format(\"Car[%s, %d]\", make, odometer);\n",
    "    }\n",
    "}"
   ]
  },
  {
   "cell_type": "code",
   "execution_count": null,
   "id": "suspected-graduation",
   "metadata": {},
   "outputs": [],
   "source": [
    "Car ford = new Car(\"Ford\");\n",
    "System.out.println(ford);\n",
    "\n",
    "ford.drive(1000);\n",
    "\n",
    "System.out.println(ford);\n",
    "System.out.println(\"count = \" + ford.getMake());\n",
    "System.out.println(\"count = \" + ford.getOdometer());\n",
    "\n",
    "System.out.println(\"count = \" + Car.getCount());\n",
    "System.out.println(\"count = \" + ford.getCount());"
   ]
  },
  {
   "cell_type": "code",
   "execution_count": null,
   "id": "miniature-think",
   "metadata": {},
   "outputs": [],
   "source": [
    "Car ferrari = new Car(\"Ferrari\");\n",
    "System.out.println(ferrari);\n",
    "\n",
    "ferrari.drive(3000);\n",
    "\n",
    "System.out.println(ferrari);\n",
    "System.out.println(\"count = \" + ferrari.getMake());\n",
    "System.out.println(\"count = \" + ferrari.getOdometer());\n",
    "\n",
    "System.out.println(\"count = \" + Car.getCount());\n",
    "System.out.println(\"count = \" + ferrari.getCount());"
   ]
  },
  {
   "cell_type": "code",
   "execution_count": null,
   "id": "suited-lindsay",
   "metadata": {},
   "outputs": [],
   "source": [
    "// Car.drive(5000);"
   ]
  },
  {
   "cell_type": "code",
   "execution_count": null,
   "id": "guided-wagon",
   "metadata": {},
   "outputs": [],
   "source": []
  }
 ],
 "metadata": {
  "kernelspec": {
   "display_name": "Java",
   "language": "java",
   "name": "java"
  },
  "language_info": {
   "codemirror_mode": "java",
   "file_extension": ".jshell",
   "mimetype": "text/x-java-source",
   "name": "Java",
   "pygments_lexer": "java",
   "version": "15.0.2+7-27"
  }
 },
 "nbformat": 4,
 "nbformat_minor": 5
}
