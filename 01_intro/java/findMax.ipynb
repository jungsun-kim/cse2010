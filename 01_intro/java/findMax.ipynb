{
 "cells": [
  {
   "cell_type": "markdown",
   "id": "blond-costume",
   "metadata": {},
   "source": [
    "<img src=\"../arrayMax.png\" width=300/>"
   ]
  },
  {
   "cell_type": "code",
   "execution_count": null,
   "id": "controlled-discussion",
   "metadata": {},
   "outputs": [],
   "source": [
    "import java.util.Arrays;\n",
    "\n",
    "public class FindMax {\n",
    "\n",
    "    public static int arrayIntMax(int[] A) {\n",
    "        int currentMax = A[0];\n",
    "        for (int i = 1; i < A.length; i++) {\n",
    "            if (A[i] > currentMax) {\n",
    "                currentMax = A[i];\n",
    "                i = i + 1;\n",
    "            }\n",
    "        }\n",
    "        return currentMax;\n",
    "    }\n",
    "\n",
    "    public static int arrayIntMax2(int[] A) {\n",
    "        return Arrays.stream(A).max().getAsInt();\n",
    "    }\n",
    "    \n",
    "    public static double arrayDoubleMax(double[] A) {\n",
    "        double currentMax = A[0];\n",
    "        for (int i = 1; i < A.length; i++) {\n",
    "            if (A[i] > currentMax) {\n",
    "                currentMax = A[i];\n",
    "                i = i + 1;\n",
    "            }\n",
    "        }\n",
    "        return currentMax;\n",
    "    }\n",
    "\n",
    "    public static String arrayStringMax(String[] A) {\n",
    "        String currentMax = A[0];\n",
    "        for (int i = 1; i < A.length; i++) {\n",
    "            if (A[i].compareTo(currentMax) > 0) {\n",
    "                currentMax = A[i];\n",
    "                i = i + 1;\n",
    "            }\n",
    "        }\n",
    "        return currentMax;\n",
    "    }\n",
    "\n",
    "    \n",
    "    public static void main(String[] args) {\n",
    "        int[] A = new int[] {5, 20, 1, 15, 5, 777, 4};\n",
    "\n",
    "        System.out.println(arrayIntMax(A));\n",
    "    }\n",
    "}"
   ]
  },
  {
   "cell_type": "code",
   "execution_count": null,
   "id": "historical-strand",
   "metadata": {},
   "outputs": [],
   "source": [
    "FindMax.main(null)"
   ]
  },
  {
   "cell_type": "code",
   "execution_count": null,
   "id": "continued-selection",
   "metadata": {},
   "outputs": [],
   "source": [
    "int[] data = new int[] {5, 20, 1, 15, 5, 777, 4};"
   ]
  },
  {
   "cell_type": "code",
   "execution_count": null,
   "id": "unlikely-building",
   "metadata": {},
   "outputs": [],
   "source": [
    "FindMax.arrayIntMax(data)"
   ]
  },
  {
   "cell_type": "markdown",
   "id": "skilled-arthritis",
   "metadata": {},
   "source": [
    "#### Let's try to pass a different type of array."
   ]
  },
  {
   "cell_type": "code",
   "execution_count": null,
   "id": "young-collar",
   "metadata": {},
   "outputs": [],
   "source": [
    "double[] data = new double[] {5.0, 20, 1, 15, 5, 777, 4};"
   ]
  },
  {
   "cell_type": "code",
   "execution_count": null,
   "id": "multiple-disposal",
   "metadata": {},
   "outputs": [],
   "source": [
    "FindMax.arrayIntMax(data)"
   ]
  },
  {
   "cell_type": "code",
   "execution_count": null,
   "id": "found-funeral",
   "metadata": {},
   "outputs": [],
   "source": [
    "FindMax.arrayDoubleMax(data)"
   ]
  },
  {
   "cell_type": "code",
   "execution_count": null,
   "id": "incorporate-planning",
   "metadata": {},
   "outputs": [],
   "source": [
    "String[] data = { \"Hello\", \"Yellow\", \"Mello\" }"
   ]
  },
  {
   "cell_type": "code",
   "execution_count": null,
   "id": "disciplinary-religious",
   "metadata": {},
   "outputs": [],
   "source": [
    "FindMax.arrayIntMax(data)"
   ]
  },
  {
   "cell_type": "code",
   "execution_count": null,
   "id": "funded-motel",
   "metadata": {},
   "outputs": [],
   "source": [
    "FindMax.arrayDoubleMax(data)"
   ]
  },
  {
   "cell_type": "code",
   "execution_count": null,
   "id": "looking-satisfaction",
   "metadata": {},
   "outputs": [],
   "source": [
    "FindMax.arrayStringMax(data)"
   ]
  },
  {
   "cell_type": "code",
   "execution_count": null,
   "id": "possible-violin",
   "metadata": {},
   "outputs": [],
   "source": []
  }
 ],
 "metadata": {
  "kernelspec": {
   "display_name": "Java",
   "language": "java",
   "name": "java"
  },
  "language_info": {
   "codemirror_mode": "java",
   "file_extension": ".jshell",
   "mimetype": "text/x-java-source",
   "name": "Java",
   "pygments_lexer": "java",
   "version": "15.0.2+7-27"
  }
 },
 "nbformat": 4,
 "nbformat_minor": 5
}
