{
 "cells": [
  {
   "cell_type": "markdown",
   "id": "violent-cotton",
   "metadata": {},
   "source": [
    "### Inheritance"
   ]
  },
  {
   "cell_type": "code",
   "execution_count": null,
   "id": "acceptable-eleven",
   "metadata": {},
   "outputs": [],
   "source": [
    "public class Car {\n",
    "    private static int count;\n",
    "    protected int odometer;\n",
    "    protected String make;\n",
    "    \n",
    "    public Car(String make) {\n",
    "        this.make = make;\n",
    "        ++count;\n",
    "    }\n",
    "    \n",
    "    public int getOdometer() {\n",
    "        return odometer;\n",
    "    }\n",
    "    \n",
    "    public String getMake() {\n",
    "        return make;\n",
    "    }\n",
    "    \n",
    "    public void drive(int distance) {\n",
    "        odometer += distance;\n",
    "    }\n",
    "    \n",
    "    public static int getCount() {\n",
    "        return count;\n",
    "    }\n",
    "    \n",
    "    @Override\n",
    "    public String toString() {\n",
    "        return String.format(\"Car[%s, %d]\", make, odometer);\n",
    "    }\n",
    "}"
   ]
  },
  {
   "cell_type": "code",
   "execution_count": null,
   "id": "worldwide-geology",
   "metadata": {},
   "outputs": [],
   "source": [
    "public class SmartCar extends Car {\n",
    "    private String greeting;\n",
    "    \n",
    "    public SmartCar(String make, String greeting) {\n",
    "        super(make);\n",
    "        this.greeting = greeting;\n",
    "    }\n",
    "    \n",
    "    private void sayHello() {\n",
    "        System.out.println(greeting);\n",
    "    }\n",
    "    \n",
    "    @Override\n",
    "    public void drive(int distance) {\n",
    "        sayHello();\n",
    "        super.drive(distance);\n",
    "    }\n",
    "    \n",
    "    @Override\n",
    "    public String toString() {\n",
    "        return String.format(\"SmartCar[%s, %d]\", make, odometer);\n",
    "    }\n",
    "    \n",
    "}"
   ]
  },
  {
   "cell_type": "code",
   "execution_count": null,
   "id": "successful-coverage",
   "metadata": {},
   "outputs": [],
   "source": [
    "Car smartCar = new SmartCar(\"Millenium\", \"Welcome!\");\n",
    "System.out.println(smartCar);\n",
    "\n",
    "smartCar.drive(777);\n",
    "\n",
    "System.out.println(smartCar);\n",
    "System.out.println(\"make = \" + smartCar.getMake());\n",
    "System.out.println(\"count = \" + smartCar.getOdometer());\n",
    "\n",
    "System.out.println(\"count = \" + Car.getCount());\n",
    "System.out.println(\"count = \" + smartCar.getCount());"
   ]
  },
  {
   "cell_type": "code",
   "execution_count": null,
   "id": "decimal-croatia",
   "metadata": {},
   "outputs": [],
   "source": [
    "System.out.println(\"count = \" + SmartCar.getCount());"
   ]
  },
  {
   "cell_type": "code",
   "execution_count": null,
   "id": "owned-folks",
   "metadata": {},
   "outputs": [],
   "source": [
    "SmartCar sCar = (SmartCar) smartCar;\n",
    "// smartCar.getCount();"
   ]
  },
  {
   "cell_type": "code",
   "execution_count": null,
   "id": "endangered-description",
   "metadata": {},
   "outputs": [],
   "source": []
  }
 ],
 "metadata": {
  "kernelspec": {
   "display_name": "Java",
   "language": "java",
   "name": "java"
  },
  "language_info": {
   "codemirror_mode": "java",
   "file_extension": ".jshell",
   "mimetype": "text/x-java-source",
   "name": "Java",
   "pygments_lexer": "java",
   "version": "15.0.2+7-27"
  }
 },
 "nbformat": 4,
 "nbformat_minor": 5
}
