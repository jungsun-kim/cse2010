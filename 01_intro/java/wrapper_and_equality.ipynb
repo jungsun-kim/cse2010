{
 "cells": [
  {
   "cell_type": "markdown",
   "id": "portable-feelings",
   "metadata": {},
   "source": [
    "## Primitive Types vs. Wrapper Types"
   ]
  },
  {
   "cell_type": "markdown",
   "id": "ignored-framing",
   "metadata": {},
   "source": [
    "- boolean <==> Boolean\n",
    "- byte    <==> Byte\n",
    "- char    <==> Character\n",
    "- short   <==> Short\n",
    "- int     <==> Integer\n",
    "- long    <==> Long\n",
    "- float   <==> Float\n",
    "- double  <==> Double"
   ]
  },
  {
   "cell_type": "markdown",
   "id": "graphic-tooth",
   "metadata": {},
   "source": [
    "### `==` operator vs. `equals()` method"
   ]
  },
  {
   "cell_type": "markdown",
   "id": "recovered-interstate",
   "metadata": {},
   "source": [
    "- `==` operator compares the reference equality\n",
    "- `equals()` method compares the value (i.e., state) equality"
   ]
  },
  {
   "cell_type": "code",
   "execution_count": null,
   "id": "classical-beast",
   "metadata": {},
   "outputs": [],
   "source": [
    "class Person {\n",
    "    private String name;\n",
    "    private int age;\n",
    "    \n",
    "    public Person(String name, int age) {\n",
    "        this.name = name;\n",
    "        this.age = age;\n",
    "    }\n",
    "    \n",
    "    public String getName() {\n",
    "        return name;\n",
    "    }\n",
    "    \n",
    "    public int getAge() {\n",
    "        return age;\n",
    "    }\n",
    "    \n",
    "    @Override\n",
    "    public boolean equals(Object other) {\n",
    "        if (this == other) return true;\n",
    "        if (other == null || getClass() != other.getClass()) return false;\n",
    "        \n",
    "        Person person = (Person) other;\n",
    "        if (name != null ? !name.equals(person.name) : person.name != null) return false;\n",
    "        return age == person.age;\n",
    "    }\n",
    "    \n",
    "    @Override\n",
    "    public String toString() {\n",
    "        return \"Person[\" + name + \", \" + age + \"]\";\n",
    "    }\n",
    "}"
   ]
  },
  {
   "cell_type": "code",
   "execution_count": null,
   "id": "behavioral-spank",
   "metadata": {},
   "outputs": [],
   "source": [
    "345 == 345"
   ]
  },
  {
   "cell_type": "code",
   "execution_count": null,
   "id": "limited-bobby",
   "metadata": {},
   "outputs": [],
   "source": [
    "Person p1 = new Person(\"John\", 33);\n",
    "Person p2 = new Person(\"John\", 33);"
   ]
  },
  {
   "cell_type": "code",
   "execution_count": null,
   "id": "strong-badge",
   "metadata": {},
   "outputs": [],
   "source": [
    "p1 == p2"
   ]
  },
  {
   "cell_type": "code",
   "execution_count": null,
   "id": "hungarian-galaxy",
   "metadata": {},
   "outputs": [],
   "source": [
    "p1.equals(p1);"
   ]
  },
  {
   "cell_type": "code",
   "execution_count": null,
   "id": "stuck-prototype",
   "metadata": {},
   "outputs": [],
   "source": [
    "Integer i1 = Integer.valueOf(33);\n",
    "Integer i2 = Integer.valueOf(33);"
   ]
  },
  {
   "cell_type": "code",
   "execution_count": null,
   "id": "alleged-blocking",
   "metadata": {},
   "outputs": [],
   "source": [
    "i1 == i2"
   ]
  },
  {
   "cell_type": "code",
   "execution_count": null,
   "id": "average-recipe",
   "metadata": {},
   "outputs": [],
   "source": [
    "String s1 = new String(\"Hello\");\n",
    "String s2 = new String(\"Hello\");"
   ]
  },
  {
   "cell_type": "code",
   "execution_count": null,
   "id": "surprising-conclusion",
   "metadata": {},
   "outputs": [],
   "source": [
    "s1 == s2;"
   ]
  },
  {
   "cell_type": "code",
   "execution_count": null,
   "id": "silent-tender",
   "metadata": {},
   "outputs": [],
   "source": [
    "s1.equals(s2);"
   ]
  },
  {
   "cell_type": "code",
   "execution_count": null,
   "id": "reflected-merchant",
   "metadata": {},
   "outputs": [],
   "source": [
    "String s1 = \"hello\";\n",
    "String s2 = \"hello\";"
   ]
  },
  {
   "cell_type": "code",
   "execution_count": null,
   "id": "accepting-regression",
   "metadata": {},
   "outputs": [],
   "source": [
    "s1 == s2"
   ]
  },
  {
   "cell_type": "code",
   "execution_count": null,
   "id": "balanced-coating",
   "metadata": {},
   "outputs": [],
   "source": [
    "s1.equals(s2);"
   ]
  },
  {
   "cell_type": "code",
   "execution_count": null,
   "id": "committed-distribution",
   "metadata": {},
   "outputs": [],
   "source": [
    "12.34 == 12.34"
   ]
  },
  {
   "cell_type": "code",
   "execution_count": null,
   "id": "spread-lighting",
   "metadata": {},
   "outputs": [],
   "source": [
    "double x = 1.0 + 0.1 + 0.1 + 0.1 + 0.1 + 0.1;\n",
    "double y = 1.0 + 0.1 * 5;\n",
    "\n",
    "if (x == y) {\n",
    "    System.out.println(\"equals\");\n",
    "} else {\n",
    "    System.out.println(\"not equals\");\n",
    "}"
   ]
  },
  {
   "cell_type": "code",
   "execution_count": null,
   "id": "guided-recipient",
   "metadata": {},
   "outputs": [],
   "source": [
    "System.out.println(\"x = \" + x);\n",
    "System.out.println(\"y = \" + y);"
   ]
  },
  {
   "cell_type": "code",
   "execution_count": null,
   "id": "precious-fundamental",
   "metadata": {},
   "outputs": [],
   "source": [
    "import java.lang.Math;\n",
    "\n",
    "public static final double Threshold = 0.0001;\n",
    "\n",
    "double x = 1.0 + 0.1 + 0.1 + 0.1 + 0.1 + 0.1;\n",
    "double y = 1.0 + 0.1 * 5;\n",
    "\n",
    "if (Math.abs(x - y) < Threshold) {\n",
    "    System.out.println(\"equals\");\n",
    "} else {\n",
    "    System.out.println(\"not equals\");\n",
    "}"
   ]
  },
  {
   "cell_type": "markdown",
   "id": "directed-stroke",
   "metadata": {},
   "source": [
    "#### Never use '==' operator for floating-point comparison!!!"
   ]
  }
 ],
 "metadata": {
  "kernelspec": {
   "display_name": "Java",
   "language": "java",
   "name": "java"
  },
  "language_info": {
   "codemirror_mode": "java",
   "file_extension": ".jshell",
   "mimetype": "text/x-java-source",
   "name": "Java",
   "pygments_lexer": "java",
   "version": "15.0.2+7-27"
  }
 },
 "nbformat": 4,
 "nbformat_minor": 5
}
